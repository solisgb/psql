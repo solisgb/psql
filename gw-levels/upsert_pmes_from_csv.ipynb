{
 "cells": [
  {
   "cell_type": "markdown",
   "id": "2fda9594-61a1-41c7-84b2-29c390120e08",
   "metadata": {},
   "source": [
    "# Importar precipitación mensual de AEMET a tabla postgres\n",
    "AEMET pasa cada mes los datos de precipitación mensual (mm) de cada DH a la correspondiente CH en ficheros csv<br>\n",
    "Cada fichero contiene los datos del mes (incompletos) y los de los dos meses anteriores<br>\n",
    "Los datos del mes son incompletos y provisionales\n",
    "Los datos del mes anterior completan el del fichero anterior para ese mes y pueden corregir datos suminstrados com anterioridad. Pueden ser incompetos<br>\n",
    "Los datos del últimos con ya definitivos. Pueden corrigr los de ese mes facilitados en ficheros previos<br>\n",
    "\n",
    "El proceso es el siguiente:\n",
    "1. Se rellena la tupla fcsv con el nombre y dirección de los ficheros aemet a importar, por orden de datos más antiguos a más modernos\n",
    "1. El script comprueba que los ficheros existen\n",
    "1. El script pregunta los datos de la base de datos donde queremos importar (upsert) los datos de los ficheros csv\n",
    "1. Se comrpueba que los datos de la base de datos permiten crear y cerrar una conexión \n",
    "1. Se crea la tabla tmp.aemet_2_oph_chs cuyas columnas son las columnas de los ficheros csv. Si cambian la estructura hay que cambiar la definición d ela tabla\n",
    "1. Se borran los datos existentes en tmp.aemet_2_oph_chs\n",
    "1. Se importan los datos del primver fichero csv\n",
    "1. Se comprueba que todas las estaciones están dadas de alta en la tambla met.pexistencias. Si alguna no está se interrumpe el proceso y hay qye darla de alta\n",
    "1. Se muestra en pantalla un resumen de los datos que se van a introducir\n",
    "1. Se pide al usuario que acepte los datos a insertar en la tapla met.pmes\n",
    "1. Si acepta se usert los los datos y se cntinua con el siguiente fichero csv; si no se acepta se interrumpe el proceso"
   ]
  },
  {
   "cell_type": "code",
   "execution_count": 23,
   "id": "59da4ee0-fc1f-41ad-b101-d79e403b2b22",
   "metadata": {},
   "outputs": [],
   "source": [
    "import os.path\n",
    "import traceback\n",
    "\n",
    "import getpass\n",
    "import psycopg2"
   ]
  },
  {
   "cell_type": "markdown",
   "id": "18f93aaa-9e6e-456b-96d9-286901e03c67",
   "metadata": {},
   "source": [
    "## Ficheros csv a importar\n",
    "Es fudamental colocarlos por orden en cuanto a los meses que contienen, de más antiguos a más modernos\n"
   ]
  },
  {
   "cell_type": "code",
   "execution_count": 7,
   "id": "c97c97e8-6864-431a-abf9-67eeefa932b9",
   "metadata": {},
   "outputs": [],
   "source": [
    "fcsv = (\n",
    "    r'H:\\IGME2020\\_pz_manzano\\20220324_informe_pz\\aemet\\2021_09_08_07_PrecMesSeg_utf8.csv',\n",
    "    r'H:\\IGME2020\\_pz_manzano\\20220324_informe_pz\\aemet\\2021_10_09_08_PrecMesSeg_utf8.csv',\n",
    "    r'H:\\IGME2020\\_pz_manzano\\20220324_informe_pz\\aemet\\2021_11_10_09_PrecMesSeg_utf8.csv',\n",
    "    r'H:\\IGME2020\\_pz_manzano\\20220324_informe_pz\\aemet\\2021_12_11_10_PrecMesSeg_utf8.csv',\n",
    "    r'H:\\IGME2020\\_pz_manzano\\20220324_informe_pz\\aemet\\2022_01_12_11_PrecMesSeg_utf8.csv',\n",
    "    r'H:\\IGME2020\\_pz_manzano\\20220324_informe_pz\\aemet\\2022_02_01_12_PrecMesSeg_utf8.csv'\n",
    ")"
   ]
  },
  {
   "cell_type": "code",
   "execution_count": 8,
   "id": "de51f211-cde0-4085-9f95-86948259ebda",
   "metadata": {},
   "outputs": [
    {
     "name": "stdout",
     "output_type": "stream",
     "text": [
      "H:\\IGME2020\\_pz_manzano\\20220324_informe_pz\\aemet\\2021_09_08_07_PrecMesSeg_utf8.csv existe\n",
      "H:\\IGME2020\\_pz_manzano\\20220324_informe_pz\\aemet\\2021_10_09_08_PrecMesSeg_utf8.csv existe\n",
      "H:\\IGME2020\\_pz_manzano\\20220324_informe_pz\\aemet\\2021_11_10_09_PrecMesSeg_utf8.csv existe\n",
      "H:\\IGME2020\\_pz_manzano\\20220324_informe_pz\\aemet\\2021_12_11_10_PrecMesSeg_utf8.csv existe\n",
      "H:\\IGME2020\\_pz_manzano\\20220324_informe_pz\\aemet\\2022_01_12_11_PrecMesSeg_utf8.csv existe\n",
      "H:\\IGME2020\\_pz_manzano\\20220324_informe_pz\\aemet\\2022_02_01_12_PrecMesSeg_utf8.csv existe\n"
     ]
    }
   ],
   "source": [
    "# Compruebo que existen\n",
    "for f1 in fcsv:\n",
    "    os.path.isfile(f1)\n",
    "    print(f'{f1} existe')"
   ]
  },
  {
   "cell_type": "code",
   "execution_count": 17,
   "id": "31f6b7a0-cb44-4d09-9c70-95f38c38ad94",
   "metadata": {},
   "outputs": [],
   "source": [
    "# test connection\n",
    "def db_con():\n",
    "    db = getpass.getpass(\"Data base: \")\n",
    "    user = getpass.getpass(\"user: \")\n",
    "    password = getpass.getpass(\"password: \")\n",
    "    return (db, user, password)"
   ]
  },
  {
   "cell_type": "code",
   "execution_count": 26,
   "id": "adc95333-a357-4274-bdbb-16f33ee3a81b",
   "metadata": {},
   "outputs": [
    {
     "name": "stdin",
     "output_type": "stream",
     "text": [
      "Data base:  ···\n",
      "user:  ········\n",
      "password:  ··\n"
     ]
    },
    {
     "name": "stdout",
     "output_type": "stream",
     "text": [
      "connection open and closed\n"
     ]
    }
   ],
   "source": [
    "## test connecion\n",
    "db, user, passw = db_con()\n",
    "try:\n",
    "    con = psycopg2.connect(database=db, user=user, password=passw)\n",
    "except Exception as e:\n",
    "    print(traceback.format_exc())\n",
    "else:    \n",
    "    con.close()\n",
    "    print('connection opened and closed')"
   ]
  },
  {
   "cell_type": "code",
   "execution_count": 29,
   "id": "e0ead4ee-ef4a-4a00-83d4-025825d277a3",
   "metadata": {},
   "outputs": [
    {
     "name": "stdout",
     "output_type": "stream",
     "text": [
      "tabla disponible\n"
     ]
    }
   ],
   "source": [
    "# se crea una tabla con las mismas columnas que los ficheros csv\n",
    "create_table = \\\n",
    "\"\"\"\n",
    "create table if not exists tmp.aemet_2_oph_chs (\n",
    "    indicativo varchar,\n",
    "    año integer,\n",
    "    mes integer,\n",
    "    nombre varchar,\n",
    "    altitud float,\n",
    "    c_x float,\n",
    "    c_y float,\n",
    "    nom_prov varchar,\n",
    "    pmes77 real\n",
    ");\n",
    "\"\"\"\n",
    "try:\n",
    "    con = psycopg2.connect(database=db, user=user, password=passw)\n",
    "    cur = con.cursor()\n",
    "    cur.execute(create_table)\n",
    "    print('tabla disponible')\n",
    "finally:\n",
    "    con.close()"
   ]
  },
  {
   "cell_type": "code",
   "execution_count": 43,
   "id": "309194e7-270e-488b-81fc-5c4bce05ede1",
   "metadata": {},
   "outputs": [
    {
     "name": "stdout",
     "output_type": "stream",
     "text": [
      "H:\\IGME2020\\_pz_manzano\\20220324_informe_pz\\aemet\\2021_09_08_07_PrecMesSeg_utf8.csv\n",
      "importado\n",
      "estaciones no dadas de alta: todas las estaciones están dadas de alta\n",
      "Resumen de contenidos del fichero csv\n",
      "(Año, mes, número de datos)\n",
      "(2021, 8, 109)\n",
      "(2021, 9, 105)\n",
      "(2021, 10, 49)\n"
     ]
    },
    {
     "name": "stdin",
     "output_type": "stream",
     "text": [
      "Continuar? (y/n):  n\n"
     ]
    },
    {
     "name": "stdout",
     "output_type": "stream",
     "text": [
      "Ejecución interrumpida por el usuario\n"
     ]
    }
   ],
   "source": [
    "stm_delete_rows = \"delete from tmp.aemet_2_oph_chs;\"\n",
    "f1 = ''\n",
    "test_indicativos = \\\n",
    "\"\"\"\n",
    "select distinct t.indicativo , t2.indic \n",
    "from tmp.aemet_2_oph_chs t\n",
    "    left join met.pexistencias t2 on(t.indicativo=t2.indic)\n",
    "where t2.indic = NULL\n",
    "order by t.indicativo , t2.indic;\n",
    "\"\"\"\n",
    "stm_view_2upsert = \\\n",
    "\"\"\"\n",
    "select t.año , t.mes , count(*)\n",
    "from tmp.aemet_2_oph_chs t\n",
    "group by t.año , t.mes \n",
    "order by t.año , t.mes;\n",
    "\"\"\"\n",
    "stm_upsert = \\\n",
    "\"\"\"\n",
    "insert into met.pmes (indic, fecha, prec) \n",
    "    select t.indicativo , (date_trunc('month', make_date(t.año , t.mes , 1)) + interval '1 month' - interval '1 day')::date as fecha , t.pmes77\n",
    "    from tmp.aemet_2_oph_chs t\n",
    "    order by t.indicativo , (date_trunc('month', make_date(t.año , t.mes , 1)) + interval '1 month' - interval '1 day')::date\n",
    "on conflict on constraint pmes_pkey\n",
    "do update set prec = excluded.prec;\n",
    "\"\"\"\n",
    "try:\n",
    "    con = psycopg2.connect(database=db, user=user, password=passw)\n",
    "    cur = con.cursor()\n",
    "    for f1 in fcsv:\n",
    "        print(f'{f1}')\n",
    "        cur.execute(stm_delete_rows)\n",
    "        stm_import = f\"copy tmp.aemet_2_oph_chs from '{f1}' with CSV header delimiter ';' encoding 'UTF-8'\"\n",
    "        cur.execute(stm_import)\n",
    "        print('importado')\n",
    "        cur.execute(test_indicativos)\n",
    "        n = 0\n",
    "        print('estaciones no dadas de alta: ', end='')\n",
    "        for row in cur.fetchall():\n",
    "            print(row)\n",
    "            n += 1\n",
    "        if n == 0:\n",
    "            print('todas las estaciones están dadas de alta')\n",
    "        else:\n",
    "            print(f'{n:d}')\n",
    "            raise ValueError(r'Hay que dar de alta las nuevas estaciones')\n",
    "        cur.execute(stm_view_2upsert)\n",
    "        print('Resumen de contenidos del fichero csv')\n",
    "        print('(Año, mes, número de datos)')\n",
    "        for row in cur.fetchall():\n",
    "            print(row)\n",
    "        seguir = input(\"Continuar? (y/n): \")\n",
    "        if seguir.strip().lower() != 'y':\n",
    "            print('Ejecución interrumpida por el usuario')\n",
    "            break\n",
    "        # cur.execute(stm_upsert)\n",
    "        print('Estaciones actualizadas')\n",
    "except Exception as e:\n",
    "    print(traceback.format_exc())\n",
    "finally:\n",
    "    con.close()"
   ]
  },
  {
   "cell_type": "code",
   "execution_count": null,
   "id": "56639dcb-b377-42e9-8818-727adc07abcd",
   "metadata": {},
   "outputs": [],
   "source": []
  }
 ],
 "metadata": {
  "kernelspec": {
   "display_name": "Python 3 (ipykernel)",
   "language": "python",
   "name": "python3"
  },
  "language_info": {
   "codemirror_mode": {
    "name": "ipython",
    "version": 3
   },
   "file_extension": ".py",
   "mimetype": "text/x-python",
   "name": "python",
   "nbconvert_exporter": "python",
   "pygments_lexer": "ipython3",
   "version": "3.8.12"
  }
 },
 "nbformat": 4,
 "nbformat_minor": 5
}
