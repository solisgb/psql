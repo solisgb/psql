{
 "cells": [
  {
   "cell_type": "code",
   "execution_count": 1,
   "metadata": {},
   "outputs": [],
   "source": [
    "import matplotlib.pyplot as plt\n",
    "import numpy as np\n",
    "import pandas as pd\n",
    "from os.path import join, split"
   ]
  },
  {
   "cell_type": "code",
   "execution_count": 9,
   "metadata": {},
   "outputs": [],
   "source": [
    "def statistics(df01, path2, txt_file, col_name):\n",
    "    \"\"\"\n",
    "    Graba en un fichero los estadísticos de una columna de una hoja Excel\n",
    "    df01: pandas dataframe\n",
    "        Instanciada fuera de la función\n",
    "    path2: txt\n",
    "        Nombre del directorio donde se grabarán los resultados\n",
    "    txt_file: txt\n",
    "        Nombre del fichero txt de resultados\n",
    "    column01: txt\n",
    "        Nombre de la columna en la hoja Excel que coincide con el nombre en el dataframe\n",
    "    Return: None\n",
    "    \"\"\"\n",
    "    with open(join(path2, txt_file), 'w') as fo:\n",
    "        fo.write(f\"medidas\\t{df01[col_name].count():f}\\n\")\n",
    "        fo.write(f\"media\\t{df01[col_name].mean():f}\\n\")\n",
    "        fo.write(f\"mediana\\t{df01[col_name].median():f}\\n\")\n",
    "        fo.write(f\"percentil 10\\t{df01[col_name].quantile(0.1):f}\\n\")\n",
    "        fo.write(f\"percentil 25\\t{df01[col_name].quantile(0.25):f}\\n\")\n",
    "        fo.write(f\"percentil 75\\t{df01[col_name].quantile(0.75):f}\\n\")\n",
    "        fo.write(f\"percentil 90\\t{df01[col_name].quantile(0.9):f}\\n\")\n",
    "        fo.write(f\"skew\\t{df01[col_name].skew():f}\\n\")\n",
    "        print(f'se ha grabado {txt_file}')\n"
   ]
  },
  {
   "cell_type": "code",
   "execution_count": 18,
   "metadata": {},
   "outputs": [],
   "source": [
    "def histogram(path2, fi_name, df01, col_name, title, xlabel, ylabel, nbins=30, color='#1f77b4'):\n",
    "    \"\"\"\n",
    "    Graba en un histograma en un fichero png\n",
    "    df01: pandas dataframe\n",
    "        Instanciado fuera de la función\n",
    "    path2: txt\n",
    "        Nombre del directorio donde se grabarán los resultados\n",
    "    fi:name: txt\n",
    "        Nombre del fichero png de resultados\n",
    "    df01: pandas dataframe\n",
    "        Instanciada fuera de la función        \n",
    "    col_name: txt\n",
    "        Nombre de la columna en la hoja Excel que coincide con el nombre en el dataframe\n",
    "    title: txt\n",
    "        Título del gráfico\n",
    "    xlabel: txt\n",
    "        nombre del eje de las x\n",
    "    ylabel: txt\n",
    "        nombre del eje de las y\n",
    "    Return: None    \n",
    "    \"\"\"\n",
    "\n",
    "    fig = plt.hist(df01[col_name], density=False, bins=nbins, color=color)  # `density=False` would make counts\n",
    "    plt.ylabel(xlabel)\n",
    "    plt.xlabel(ylabel)\n",
    "    plt.title(title)\n",
    "    plt.savefig(join(path2, fi_name))\n",
    "    print(f'grabado {fi_name}')\n",
    "    "
   ]
  },
  {
   "cell_type": "markdown",
   "metadata": {},
   "source": [
    "### Piezometría CHS 2021\n",
    "Los leo del fichero Excel"
   ]
  },
  {
   "cell_type": "code",
   "execution_count": 5,
   "metadata": {},
   "outputs": [
    {
     "name": "stdout",
     "output_type": "stream",
     "text": [
      "sheets\n",
      "Prof_media_2021_m\n",
      "PNP_2021_2020\n"
     ]
    }
   ],
   "source": [
    "fi01=r'H:\\LSGB\\20220324_informe_pz\\memoria\\data_analisis.xlsx'\n",
    "head, tail = split(fi01)\n",
    "\n",
    "df = pd.read_excel(fi01, None);\n",
    "print('sheets')\n",
    "for key in df.keys():\n",
    "    print(key)\n"
   ]
  },
  {
   "cell_type": "markdown",
   "metadata": {},
   "source": [
    "## Profundidad media del agua subterránea en 2021"
   ]
  },
  {
   "cell_type": "code",
   "execution_count": 9,
   "metadata": {},
   "outputs": [],
   "source": [
    "sheet01 = 'Prof_media_2021_m'\n",
    "df01 = pd.read_excel(fi01, sheet_name=sheet01)"
   ]
  },
  {
   "cell_type": "code",
   "execution_count": 10,
   "metadata": {},
   "outputs": [
    {
     "data": {
      "text/plain": [
       "masub        float64\n",
       "nombre        object\n",
       "id            object\n",
       "pnp          float64\n",
       "sdev         float64\n",
       "n_medidas      int64\n",
       "red           object\n",
       "dtype: object"
      ]
     },
     "execution_count": 10,
     "metadata": {},
     "output_type": "execute_result"
    }
   ],
   "source": [
    "df01.dtypes"
   ]
  },
  {
   "cell_type": "code",
   "execution_count": 11,
   "metadata": {},
   "outputs": [],
   "source": [
    "out_sta_fi = 'pnp_statistics.txt'\n",
    "column01 = 'pnp'\n",
    "with open(join(head,out_sta_fi), 'w') as fo:\n",
    "    fo.write(f\"medidas\\t{df01[column01].count():f}\\n\")\n",
    "    fo.write(f\"media\\t{df01[column01].mean():f}\\n\")\n",
    "    fo.write(f\"mediana\\t{df01[column01].median():f}\\n\")\n",
    "    fo.write(f\"percentil 10\\t{df01[column01].quantile(0.1):f}\\n\")\n",
    "    fo.write(f\"percentil 25\\t{df01[column01].quantile(0.25):f}\\n\")\n",
    "    fo.write(f\"percentil 75\\t{df01[column01].quantile(0.75):f}\\n\")\n",
    "    fo.write(f\"percentil 90\\t{df01[column01].quantile(0.9):f}\\n\")\n",
    "    fo.write(f\"skew\\t{df01[column01].skew():f}\\n\")\n"
   ]
  },
  {
   "cell_type": "code",
   "execution_count": 13,
   "metadata": {},
   "outputs": [
    {
     "data": {
      "image/png": "[encoded data removed]",
      "text/plain": [
       "<Figure size 432x288 with 1 Axes>"
      ]
     },
     "metadata": {
      "needs_background": "light"
     },
     "output_type": "display_data"
    }
   ],
   "source": [
    "name_file = 'pnp_avg_2021.png'\n",
    "fig = plt.hist(df01[column01], density=False, bins=30)  # `density=False` would make counts\n",
    "plt.ylabel('Número de sondeos')\n",
    "plt.xlabel('Profundidad agua subterránea (m)')\n",
    "plt.title(\"Profundidad media del agua subterránea (2021)\")\n",
    "plt.savefig(join(head,name_file))"
   ]
  },
  {
   "cell_type": "code",
   "execution_count": 39,
   "metadata": {},
   "outputs": [
    {
     "data": {
      "image/png": "[encoded data removed]",
      "text/plain": [
       "<Figure size 432x144 with 1 Axes>"
      ]
     },
     "metadata": {
      "needs_background": "light"
     },
     "output_type": "display_data"
    }
   ],
   "source": [
    "name_file = 'pnp_boxplot.png'\n",
    "fig1, ax1 = plt.subplots(figsize=(6, 2)) \n",
    "ax1.set_title('Profundidad media del agua subterránea\\nen los sondeos de la red de control (2021)')\n",
    "ax1.boxplot(df01[column01], widths=0.4, labels=['Prof. agua subterránea (m)'], vert=False)\n",
    "plt.savefig(join(head,name_file))"
   ]
  },
  {
   "cell_type": "markdown",
   "metadata": {},
   "source": [
    "## Variación media de la prof. del agua sub. entre 2021 y 2020"
   ]
  },
  {
   "cell_type": "code",
   "execution_count": 6,
   "metadata": {},
   "outputs": [
    {
     "data": {
      "text/plain": [
       "masub                float64\n",
       "nombre                object\n",
       "sondeo                object\n",
       "pnp_var_2021_2020    float64\n",
       "geom                  object\n",
       "dtype: object"
      ]
     },
     "execution_count": 6,
     "metadata": {},
     "output_type": "execute_result"
    }
   ],
   "source": [
    "sheet02 = 'PNP_2021_2020'\n",
    "df02 = pd.read_excel(fi01, sheet_name=sheet02)\n",
    "df02.dtypes"
   ]
  },
  {
   "cell_type": "code",
   "execution_count": 10,
   "metadata": {},
   "outputs": [
    {
     "name": "stdout",
     "output_type": "stream",
     "text": [
      "se ha grabado pnp_avg_2021.txt\n"
     ]
    }
   ],
   "source": [
    "output_file = 'pnp_avg_2021.txt'\n",
    "col_name2 = 'pnp_var_2021_2020'\n",
    "\n",
    "statistics(df02, head, output_file, col_name2)"
   ]
  },
  {
   "cell_type": "code",
   "execution_count": 20,
   "metadata": {},
   "outputs": [
    {
     "name": "stdout",
     "output_type": "stream",
     "text": [
      "grabado pnp_var_2020_21.png\n"
     ]
    },
    {
     "data": {
      "image/png": "[encoded data removed]",
      "text/plain": [
       "<Figure size 432x288 with 1 Axes>"
      ]
     },
     "metadata": {
      "needs_background": "light"
     },
     "output_type": "display_data"
    }
   ],
   "source": [
    "name_file = 'pnp_var_2020_21.png'\n",
    "title = 'Variación de la prof. del agua subterránea (2021-2020)'\n",
    "xlabel = 'Número de sondeos'\n",
    "ylabel = 'Variación (m)'\n",
    "color = '#2ca02c' # verde suave\n",
    "    \n",
    "histogram(head, name_file, df02, col_name2, title, xlabel, ylabel, color=color)"
   ]
  },
  {
   "cell_type": "markdown",
   "metadata": {},
   "source": [
    "## Variación media de la prof. del agua sub. entre 2021 y 2016"
   ]
  },
  {
   "cell_type": "code",
   "execution_count": null,
   "metadata": {},
   "outputs": [],
   "source": []
  }
 ],
 "metadata": {
  "kernelspec": {
   "display_name": "Python 3 (ipykernel)",
   "language": "python",
   "name": "python3"
  },
  "language_info": {
   "codemirror_mode": {
    "name": "ipython",
    "version": 3
   },
   "file_extension": ".py",
   "mimetype": "text/x-python",
   "name": "python",
   "nbconvert_exporter": "python",
   "pygments_lexer": "ipython3",
   "version": "3.8.12"
  }
 },
 "nbformat": 4,
 "nbformat_minor": 4
}
